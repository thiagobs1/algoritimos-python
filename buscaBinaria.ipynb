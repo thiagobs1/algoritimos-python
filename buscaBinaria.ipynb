{
 "cells": [
  {
   "cell_type": "code",
   "execution_count": 9,
   "metadata": {},
   "outputs": [
    {
     "name": "stdout",
     "output_type": "stream",
     "text": [
      "Digite o numero de elemntos do array: \n",
      "Digite o número a ser procurado: \n",
      "o número 9 não está no array\n"
     ]
    }
   ],
   "source": [
    "def pesquisa_binaria(lista, item):\n",
    "    baixo = 0\n",
    "    alto = len(lista) - 1\n",
    "\n",
    "    while (baixo <= alto):\n",
    "        meio = (baixo + alto)//2\n",
    "        chute = lista[meio]\n",
    "\n",
    "        if(chute == item):\n",
    "            return meio\n",
    "        if(chute > item):\n",
    "            alto = meio - 1\n",
    "        if(chute < item):\n",
    "            baixo = meio + 1\n",
    "    return None\n",
    "\n",
    "print(\"Digite o numero de elemntos do array: \")\n",
    "numElem = int(input())\n",
    "my_list = []\n",
    "\n",
    "for i in range(numElem):\n",
    "    my_list.insert(i, int(input(\"Digite o número a entrar: \")))\n",
    "\n",
    "print(\"Digite o número a ser procurado: \")\n",
    "num_a_procurar = int(input())\n",
    "posicao = pesquisa_binaria(my_list, num_a_procurar)\n",
    "\n",
    "if(posicao == None):\n",
    "    print(\"o número {} não está no array\".format(num_a_procurar))\n",
    "else:\n",
    "    print(\"o numero {} esta na posição: {}\".format(num_a_procurar, posicao))\n"
   ]
  }
 ],
 "metadata": {
  "kernelspec": {
   "display_name": "Python 3.10.7 64-bit (microsoft store)",
   "language": "python",
   "name": "python3"
  },
  "language_info": {
   "codemirror_mode": {
    "name": "ipython",
    "version": 3
   },
   "file_extension": ".py",
   "mimetype": "text/x-python",
   "name": "python",
   "nbconvert_exporter": "python",
   "pygments_lexer": "ipython3",
   "version": "3.10.7"
  },
  "orig_nbformat": 4,
  "vscode": {
   "interpreter": {
    "hash": "3b7e9cb8e453d6cda0fe8c8dd13f891a1f09162f0e7c66ffeae7751a7aecf00d"
   }
  }
 },
 "nbformat": 4,
 "nbformat_minor": 2
}
